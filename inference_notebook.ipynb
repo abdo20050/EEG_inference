{
 "cells": [
  {
   "cell_type": "code",
   "execution_count": 26,
   "metadata": {},
   "outputs": [],
   "source": [
    "import numpy as np\n",
    "import tensorflow as tf\n",
    "import os\n",
    "import sys\n",
    "import shutil\n",
    "import time\n",
    "import matplotlib.pyplot as plt\n",
    "from sklearn.metrics import confusion_matrix, accuracy_score, ConfusionMatrixDisplay\n",
    "from preprocess import get_data"
   ]
  },
  {
   "cell_type": "code",
   "execution_count": null,
   "metadata": {},
   "outputs": [],
   "source": []
  },
  {
   "cell_type": "code",
   "execution_count": 27,
   "metadata": {},
   "outputs": [],
   "source": [
    "\n",
    "X_test_arr = np.load('./X_test_arr.npy',allow_pickle=True)\n",
    "y_test_onehot_arr = np.load('./y_test_onehot_arr.npy',allow_pickle=True)\n",
    "\n",
    "# print(loaded_arr)\n"
   ]
  },
  {
   "cell_type": "code",
   "execution_count": 28,
   "metadata": {},
   "outputs": [],
   "source": [
    "dataset = 'EEG_CSV'\n",
    "in_samples = 1125\n",
    "n_channels = 14\n",
    "n_sub = 1\n",
    "classes_labels = [\"tongue\", \"left_hand\", \"right_hand\"]\n",
    "n_classes = len(classes_labels)\n",
    "data_path = './records/'\n",
    "# Set dataset paramters\n",
    "dataset_conf = { 'name': dataset, 'n_classes': n_classes, 'cl_labels': classes_labels,\n",
    "                'n_sub': n_sub, 'n_channels': n_channels, 'in_samples': in_samples,\n",
    "                'data_path': data_path, 'isStandard': True, 'LOSO': False}\n"
   ]
  },
  {
   "cell_type": "code",
   "execution_count": 29,
   "metadata": {},
   "outputs": [],
   "source": [
    "# Get dataset\n",
    "dataset = dataset_conf.get('name')\n",
    "n_sub = dataset_conf.get('n_sub')\n",
    "data_path = dataset_conf.get('data_path')\n",
    "isStandard = dataset_conf.get('isStandard')\n",
    "LOSO = dataset_conf.get('LOSO')\n",
    "classes_labels = dataset_conf.get('cl_labels')\n",
    "# #def arrays of datasets\n",
    "# X_train_arr , y_train_arr , y_train_onehot_arr , X_test_arr , y_test_arr , y_test_onehot_arr = ( np.zeros(n_sub , dtype=object) for _ in range(6) )\n",
    "# # print(n_sub)\n",
    "# for sub in range(n_sub):\n",
    "#     X_train_arr[sub], y_train_arr[sub], y_train_onehot_arr[sub], X_test_arr[sub] ,y_test_arr[sub] ,y_test_onehot_arr[sub] = get_data(\n",
    "#                 data_path, sub, dataset, LOSO = LOSO, isStandard = isStandard,classes_labels = classes_labels)\n",
    "    "
   ]
  },
  {
   "cell_type": "code",
   "execution_count": 30,
   "metadata": {},
   "outputs": [],
   "source": [
    "# Load the TFLite model and allocate tensors.\n",
    "model_path = './model_lite_05_13_09_14/model_05_13_09_14.tflite'\n",
    "interpreter = tf.lite.Interpreter(model_path=model_path)\n",
    "interpreter.allocate_tensors()\n"
   ]
  },
  {
   "cell_type": "code",
   "execution_count": 31,
   "metadata": {},
   "outputs": [],
   "source": [
    "# Get input and output tensors.\n",
    "input_details = interpreter.get_input_details()\n",
    "output_details = interpreter.get_output_details()\n"
   ]
  },
  {
   "cell_type": "code",
   "execution_count": 32,
   "metadata": {},
   "outputs": [
    {
     "name": "stdout",
     "output_type": "stream",
     "text": [
      "[   1    1   14 1125] [1 3]\n"
     ]
    }
   ],
   "source": [
    "input_shape = input_details[0]['shape']\n",
    "output_shape = output_details[0]['shape']\n",
    "print(input_shape, output_shape)"
   ]
  },
  {
   "cell_type": "code",
   "execution_count": 33,
   "metadata": {},
   "outputs": [
    {
     "name": "stdout",
     "output_type": "stream",
     "text": [
      "(62, 1, 1, 14, 1125)\n"
     ]
    }
   ],
   "source": [
    "astype(np.float32)sub = 0\n",
    "input_data = X_test_arr[sub].[:,None,:]\n",
    "print(input_data.shape)"
   ]
  },
  {
   "cell_type": "code",
   "execution_count": 34,
   "metadata": {},
   "outputs": [
    {
     "data": {
      "text/plain": [
       "(62, 3)"
      ]
     },
     "execution_count": 34,
     "metadata": {},
     "output_type": "execute_result"
    }
   ],
   "source": [
    "y_test_onehot_arr[0].shape"
   ]
  },
  {
   "cell_type": "code",
   "execution_count": 35,
   "metadata": {},
   "outputs": [
    {
     "name": "stdout",
     "output_type": "stream",
     "text": [
      "[[0.07241691 0.8381231  0.08946009]]\n",
      "[[0.15838394 0.32491314 0.5167029 ]]\n",
      "[[0.09723345 0.09894751 0.80381906]]\n",
      "[[0.30633092 0.44218022 0.2514889 ]]\n",
      "[[0.16751307 0.45114654 0.38134032]]\n",
      "[[0.38153785 0.18319471 0.43526748]]\n",
      "[[0.0649721  0.8503544  0.08467355]]\n",
      "[[0.5290256  0.22776806 0.24320628]]\n",
      "[[0.35331032 0.17054433 0.47614536]]\n",
      "[[0.1007344  0.47144747 0.42781818]]\n",
      "[[0.14612702 0.15992606 0.6939469 ]]\n",
      "[[0.14152685 0.14070177 0.71777135]]\n",
      "[[0.06954059 0.57127106 0.35918838]]\n",
      "[[0.09268197 0.04946252 0.8578555 ]]\n",
      "[[0.48121798 0.20434189 0.31444016]]\n",
      "[[0.37497085 0.17717312 0.447856  ]]\n",
      "[[0.18816195 0.56115454 0.25068352]]\n",
      "[[0.04272601 0.03613991 0.9211341 ]]\n",
      "[[0.13257703 0.24439865 0.62302434]]\n",
      "[[0.1733228  0.59374034 0.23293681]]\n",
      "[[0.03265783 0.921063   0.04627921]]\n",
      "[[0.32714438 0.34777212 0.3250835 ]]\n",
      "[[0.11451039 0.6682444  0.21724519]]\n",
      "[[0.06096673 0.82298815 0.11604512]]\n",
      "[[0.40129036 0.46819806 0.13051166]]\n",
      "[[0.04457037 0.86635053 0.08907909]]\n",
      "[[0.17586114 0.6946515  0.12948737]]\n",
      "[[0.77606547 0.12136751 0.10256699]]\n",
      "[[0.20166212 0.3467439  0.4515939 ]]\n",
      "[[0.11602776 0.06427989 0.8196923 ]]\n",
      "[[0.11932945 0.1121574  0.7685132 ]]\n",
      "[[0.6923156  0.10717958 0.2005048 ]]\n",
      "[[0.21493326 0.49292487 0.29214185]]\n",
      "[[0.15327515 0.6275321  0.21919273]]\n",
      "[[0.06144725 0.8757519  0.06280075]]\n",
      "[[0.11766841 0.14807254 0.734259  ]]\n",
      "[[0.15812081 0.18676303 0.6551162 ]]\n",
      "[[0.37263364 0.34012538 0.2872409 ]]\n",
      "[[0.17528366 0.11172445 0.7129919 ]]\n",
      "[[0.55646634 0.20249787 0.24103573]]\n",
      "[[0.11680046 0.80572474 0.07747482]]\n",
      "[[0.35900488 0.14793536 0.49305975]]\n",
      "[[0.5114188  0.07711025 0.4114709 ]]\n",
      "[[0.61095625 0.27591425 0.11312956]]\n",
      "[[0.41822648 0.21785116 0.36392224]]\n",
      "[[0.39253527 0.14734304 0.46012166]]\n",
      "[[0.59089637 0.11946514 0.28963852]]\n",
      "[[0.2943881  0.13748112 0.56813073]]\n",
      "[[0.1148873  0.45331448 0.43179825]]\n",
      "[[0.15908802 0.15126266 0.6896493 ]]\n",
      "[[0.42293662 0.41722488 0.15983853]]\n",
      "[[0.84884465 0.06615318 0.08500217]]\n",
      "[[0.14290908 0.5311879  0.32590312]]\n",
      "[[0.44210598 0.1583152  0.39957884]]\n",
      "[[0.6340343  0.28483003 0.08113561]]\n",
      "[[0.1306257  0.24593467 0.62343967]]\n",
      "[[0.44156995 0.13544409 0.4229859 ]]\n",
      "[[0.06032995 0.14439501 0.79527503]]\n",
      "[[0.7453048  0.09209704 0.16259812]]\n",
      "[[0.4074938  0.22856788 0.36393827]]\n",
      "[[0.883727   0.05038781 0.06588513]]\n",
      "[[0.33788478 0.49966976 0.16244547]]\n"
     ]
    }
   ],
   "source": [
    "#test model\n",
    "y_pred_arr = np.zeros(y_test_onehot_arr[0].shape)\n",
    "for i in range(input_data.shape[0]):\n",
    "    interpreter.set_tensor(input_details[0]['index'], input_data[i])\n",
    "    interpreter.invoke()\n",
    "    y_pred = interpreter.get_tensor(output_details[0]['index'])\n",
    "    y_pred_arr[i] = y_pred[0]\n",
    "    print(y_pred)"
   ]
  },
  {
   "cell_type": "code",
   "execution_count": 36,
   "metadata": {},
   "outputs": [],
   "source": [
    "#plot functions\n",
    "def draw_learning_curves(history, sub):\n",
    "    plt.plot(history.history['accuracy'])\n",
    "    plt.plot(history.history['val_accuracy'])\n",
    "    plt.title('Model accuracy - subject: ' + str(sub))\n",
    "    plt.ylabel('Accuracy')\n",
    "    plt.xlabel('Epoch')\n",
    "    plt.legend(['Train', 'val'], loc='upper left')\n",
    "    plt.show()\n",
    "    plt.figure(2)\n",
    "    plt.plot(history.history['loss'])\n",
    "    plt.plot(history.history['val_loss'])\n",
    "    plt.title('Model loss - subject: ' + str(sub))\n",
    "    plt.ylabel('Loss')\n",
    "    plt.xlabel('Epoch')\n",
    "    plt.legend(['Train', 'val'], loc='upper left')\n",
    "    plt.show()\n",
    "    plt.close()\n",
    "\n",
    "def draw_confusion_matrix(cf_matrix, sub, results_path, classes_labels):\n",
    "    # Generate confusion matrix plot\n",
    "    display_labels = classes_labels\n",
    "    disp = ConfusionMatrixDisplay(confusion_matrix=cf_matrix,\n",
    "                                display_labels=display_labels)\n",
    "    disp.plot()\n",
    "    disp.ax_.set_xticklabels(display_labels, rotation=12)\n",
    "    plt.title('Confusion Matrix of Subject: ' + sub )\n",
    "    plt.savefig(results_path + '/subject_' + sub + '.png')\n",
    "    plt.show()\n",
    "\n",
    "def draw_performance_barChart(num_sub, metric, label):\n",
    "    fig, ax = plt.subplots()\n",
    "    x = list(range(1, num_sub+1))\n",
    "    ax.bar(x, metric, 0.5, label=label)\n",
    "    ax.set_ylabel(label)\n",
    "    ax.set_xlabel(\"Subject\")\n",
    "    ax.set_xticks(x)\n",
    "    ax.set_title('Model '+ label + ' per subject')\n",
    "    ax.set_ylim([0,1])\n"
   ]
  },
  {
   "cell_type": "code",
   "execution_count": 37,
   "metadata": {},
   "outputs": [],
   "source": [
    "#%% Evaluation\n",
    "def test(y_test_onehot_arr, y_pred_arr, dataset_conf, results_path, allRuns = True):\n",
    "    # Open the  \"Log\" file to write the evaluation results\n",
    "    log_write = open(results_path + \"/log.txt\", \"a\")\n",
    "\n",
    "    # Get dataset paramters\n",
    "    # dataset = dataset_conf.get('name')\n",
    "    n_classes = dataset_conf.get('n_classes')\n",
    "    # n_sub = dataset_conf.get('n_sub')\n",
    "    # data_path = dataset_conf.get('data_path')\n",
    "    # isStandard = dataset_conf.get('isStandard')\n",
    "    # LOSO = dataset_conf.get('LOSO')\n",
    "    classes_labels = dataset_conf.get('cl_labels')\n",
    "    n_sub = len(y_test_onehot_arr)\n",
    "    # Test the performance based on several runs (seeds)\n",
    "    # runs = os.listdir(results_path+\"/saved models\")\n",
    "    # Initialize variables\n",
    "    acc = np.zeros((n_sub, 1))\n",
    "    kappa = np.zeros((n_sub, 1))\n",
    "    cf_matrix = np.zeros([n_sub, 1, n_classes, n_classes])\n",
    "\n",
    "    # Iteration over subjects\n",
    "    # for sub in range(n_sub-1, n_sub): # (num_sub): for all subjects, (i-1,i): for the ith subject.\n",
    "    inference_time = 0 #  inference_time: classification time for one trial\n",
    "    for sub in range(n_sub): # (num_sub): for all subjects, (i-1,i): for the ith subject.\n",
    "        # Load data\n",
    "        X_test, y_test_onehot = X_test_arr[sub], y_test_onehot_arr[sub]\n",
    "        # _, _, _, X_test, _, y_test_onehot = get_data(data_path, sub, dataset, LOSO = LOSO, isStandard = isStandard)\n",
    "\n",
    "        # Iteration over runs (seeds)\n",
    "        for seed in range(1):\n",
    "            # Load the model of the seed.\n",
    "            # model.load_weights('{}/saved models/{}/subject-{}.h5'.format(results_path, runs[seed], sub+1))\n",
    "\n",
    "            inference_time = time.time()\n",
    "            # Predict MI task\n",
    "            label_pred = y_pred_arr.argmax(axis=-1)\n",
    "            inference_time = (time.time() - inference_time)/X_test.shape[0]\n",
    "            # Calculate accuracy and K-score\n",
    "            labels = y_test_onehot.argmax(axis=-1)\n",
    "            acc[sub, seed]  = accuracy_score(labels, label_pred)\n",
    "            # kappa[sub, seed] = cohen_kappa_score(labels, y_pred)\n",
    "            # Calculate and draw confusion matrix\n",
    "            cf_matrix[sub, seed, :, :] = confusion_matrix(labels, label_pred, normalize='true')\n",
    "            # draw_confusion_matrix(cf_matrix[sub, seed, :, :], str(sub+1), results_path, classes_labels)\n",
    "\n",
    "    # Print & write the average performance measures for all subjects\n",
    "    head1 = head2 = '                  '\n",
    "    for sub in range(n_sub):\n",
    "        head1 = head1 + 'sub_{}   '.format(sub+1)\n",
    "        head2 = head2 + '-----   '\n",
    "    head1 = head1 + '  average'\n",
    "    head2 = head2 + '  -------'\n",
    "    info = '\\n' + head1 +'\\n'+ head2\n",
    "    info = '\\n---------------------------------\\nTest performance (acc & k-score):\\n'\n",
    "    info = info + '---------------------------------\\n' + head1 +'\\n'+ head2\n",
    "    for run in range(1):\n",
    "        info = info + '\\nSeed {}: '.format(run+1)\n",
    "        info_acc = '(acc %)   '\n",
    "        info_k = '        (k-sco)   '\n",
    "        for sub in range(n_sub):\n",
    "            info_acc = info_acc + '{:.2f}   '.format(acc[sub, run]*100)\n",
    "            info_k = info_k + '{:.3f}   '.format(kappa[sub, run])\n",
    "        info_acc = info_acc + '  {:.2f}   '.format(np.average(acc[:, run])*100)\n",
    "        info_k = info_k + '  {:.3f}   '.format(np.average(kappa[:, run]))\n",
    "        info = info + info_acc + '\\n' + info_k\n",
    "    info = info + '\\n----------------------------------\\nAverage - all seeds (acc %): '\n",
    "    info = info + '{:.2f}\\n                    (k-sco): '.format(np.average(acc)*100)\n",
    "    info = info + '{:.3f}\\n\\nInference time: {:.2f}'.format(np.average(kappa), inference_time * 1000)\n",
    "    info = info + ' ms per trial\\n----------------------------------\\n'\n",
    "    print(info)\n",
    "    log_write.write(info+'\\n')\n",
    "\n",
    "    # Draw a performance bar chart for all subjects\n",
    "    draw_performance_barChart(n_sub, acc.mean(1), 'Accuracy')\n",
    "    # draw_performance_barChart(n_sub, kappa.mean(1), 'k-score')\n",
    "    # Draw confusion matrix for all subjects (average)\n",
    "    draw_confusion_matrix(cf_matrix.mean((0,1)), 'All', results_path, classes_labels)\n",
    "    # Close opened file\n",
    "    log_write.close()\n",
    "    # avg_acc = np.average(acc)*100\n",
    "    return acc\n",
    "\n"
   ]
  },
  {
   "cell_type": "code",
   "execution_count": 38,
   "metadata": {},
   "outputs": [
    {
     "name": "stdout",
     "output_type": "stream",
     "text": [
      "\n",
      "---------------------------------\n",
      "Test performance (acc & k-score):\n",
      "---------------------------------\n",
      "                  sub_1     average\n",
      "                  -----     -------\n",
      "Seed 1: (acc %)   33.87     33.87   \n",
      "        (k-sco)   0.000     0.000   \n",
      "----------------------------------\n",
      "Average - all seeds (acc %): 33.87\n",
      "                    (k-sco): 0.000\n",
      "\n",
      "Inference time: 0.00 ms per trial\n",
      "----------------------------------\n",
      "\n"
     ]
    },
    {
     "data": {
      "image/png": "[encoded data removed]",
      "text/plain": [
       "<Figure size 640x480 with 1 Axes>"
      ]
     },
     "metadata": {},
     "output_type": "display_data"
    },
    {
     "data": {
      "image/png": "[encoded data removed]",
      "text/plain": [
       "<Figure size 640x480 with 2 Axes>"
      ]
     },
     "metadata": {},
     "output_type": "display_data"
    }
   ],
   "source": [
    "acc = test(y_test_onehot_arr,y_pred_arr, dataset_conf,'./results/')"
   ]
  }
 ],
 "metadata": {
  "kernelspec": {
   "display_name": "base",
   "language": "python",
   "name": "python3"
  },
  "language_info": {
   "codemirror_mode": {
    "name": "ipython",
    "version": 3
   },
   "file_extension": ".py",
   "mimetype": "text/x-python",
   "name": "python",
   "nbconvert_exporter": "python",
   "pygments_lexer": "ipython3",
   "version": "3.1.undefined"
  }
 },
 "nbformat": 4,
 "nbformat_minor": 2
}
